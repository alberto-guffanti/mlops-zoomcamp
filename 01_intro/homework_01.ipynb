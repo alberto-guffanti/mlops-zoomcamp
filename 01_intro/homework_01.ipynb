{
 "cells": [
  {
   "cell_type": "code",
   "execution_count": null,
   "id": "3112a6d9",
   "metadata": {},
   "outputs": [],
   "source": [
    "import pandas as pd\n",
    "\n",
    "from sklearn.feature_extraction import DictVectorizer\n",
    "from sklearn.linear_model import LinearRegression\n",
    "from sklearn.metrics import root_mean_squared_error"
   ]
  },
  {
   "cell_type": "code",
   "execution_count": null,
   "id": "07bdc02e",
   "metadata": {},
   "outputs": [],
   "source": [
    "!wget https://d37ci6vzurychx.cloudfront.net/trip-data/yellow_tripdata_2023-01.parquet\n",
    "!wget https://d37ci6vzurychx.cloudfront.net/trip-data/yellow_tripdata_2023-02.parquet"
   ]
  },
  {
   "cell_type": "code",
   "execution_count": null,
   "id": "cb4af6bd",
   "metadata": {},
   "outputs": [],
   "source": [
    "df_jan = pd.read_parquet('yellow_tripdata_2023-01.parquet')\n",
    "df_jan.head()"
   ]
  },
  {
   "cell_type": "code",
   "execution_count": null,
   "id": "29634b50",
   "metadata": {},
   "outputs": [],
   "source": [
    "# Q1 - How many columns are in the January data? \n",
    "print(f\"There are {len(df_jan.columns)} columns.\") "
   ]
  },
  {
   "cell_type": "code",
   "execution_count": null,
   "id": "c8c0f242",
   "metadata": {},
   "outputs": [],
   "source": [
    "# Q2 What's the standard deviation of the trips duration in January?\n",
    "df_jan[\"duration\"] = (df_jan.tpep_dropoff_datetime - df_jan.tpep_pickup_datetime)\n",
    "df_jan[\"duration\"] = df_jan[\"duration\"].apply(lambda td: td.total_seconds() / 60)\n",
    "print(f\"The standard deviation of trips in January is {df_jan[\"duration\"].std():.2f} minutes.\")\n"
   ]
  },
  {
   "cell_type": "code",
   "execution_count": null,
   "id": "6f7f8040",
   "metadata": {},
   "outputs": [],
   "source": [
    "# Q3 What's the fraction of records left after dropping outliers?\n",
    "df_jan_out = df_jan[(df_jan[\"duration\"] >= 1) & (df_jan[\"duration\"] <= 60 )]\n",
    "print(f\"After removing outliers we are left with {len(df_jan_out) / len(df_jan)*100:.0f}% of the records.\")"
   ]
  },
  {
   "cell_type": "code",
   "execution_count": null,
   "id": "7b289164",
   "metadata": {},
   "outputs": [],
   "source": [
    "# Q4 - OneHot Encoding\n",
    "dv = DictVectorizer()\n",
    "categorical = [\"PULocationID\", \"DOLocationID\"]\n",
    "\n",
    "df_jan_out.loc[:, categorical] = df_jan_out[categorical].astype(str)\n",
    "\n",
    "train_dicts = df_jan_out[categorical].to_dict(orient='records')\n",
    "X_train = dv.fit_transform(train_dicts)\n",
    "\n",
    "print(f\"The dimensionality of the training matrix is {X_train.shape[1]}\")"
   ]
  },
  {
   "cell_type": "code",
   "execution_count": null,
   "id": "fa8b9f59",
   "metadata": {},
   "outputs": [],
   "source": [
    "# Q5 - Training the model. RMSE on train\n",
    "model = LinearRegression()\n",
    "y_train = df_jan_out[\"duration\"].values\n",
    "model.fit(X_train, y_train)\n",
    "y_pred = model.predict(X_train)\n",
    "rmse_train = root_mean_squared_error(y_train, y_pred)\n",
    "print(f\"The RMSE on train data is: {rmse_train:.2f}\")"
   ]
  },
  {
   "cell_type": "code",
   "execution_count": null,
   "id": "c7b8630d",
   "metadata": {},
   "outputs": [],
   "source": [
    "# Q6 - Evaluating the model. RMSE on valiudtion\n",
    "df_feb = pd.read_parquet('yellow_tripdata_2023-02.parquet')\n",
    "df_feb[\"duration\"] = (df_feb.tpep_dropoff_datetime - df_feb.tpep_pickup_datetime)\n",
    "df_feb[\"duration\"] = df_feb[\"duration\"].apply(lambda td: td.total_seconds() / 60)\n",
    "df_feb_out = df_feb[(df_feb[\"duration\"] >= 1) & (df_feb[\"duration\"] <= 60 )]\n",
    "\n",
    "df_feb_out.loc[:, categorical] = df_feb_out[categorical].astype(str)\n",
    "\n",
    "valid_dicts = df_feb_out[categorical].to_dict(orient='records')\n",
    "X_valid = dv.transform(valid_dicts)\n"
   ]
  },
  {
   "cell_type": "code",
   "execution_count": null,
   "id": "b2da21c8",
   "metadata": {},
   "outputs": [],
   "source": []
  }
 ],
 "metadata": {
  "kernelspec": {
   "display_name": ".venv",
   "language": "python",
   "name": "python3"
  },
  "language_info": {
   "codemirror_mode": {
    "name": "ipython",
    "version": 3
   },
   "file_extension": ".py",
   "mimetype": "text/x-python",
   "name": "python",
   "nbconvert_exporter": "python",
   "pygments_lexer": "ipython3",
   "version": "3.13.3"
  }
 },
 "nbformat": 4,
 "nbformat_minor": 5
}
